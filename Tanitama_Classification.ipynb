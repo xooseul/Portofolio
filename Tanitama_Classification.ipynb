{
  "cells": [
    {
      "cell_type": "markdown",
      "metadata": {
        "id": "view-in-github",
        "colab_type": "text"
      },
      "source": [
        "<a href=\"https://colab.research.google.com/github/xooseul/Portofolio/blob/main/Tanitama_Classification.ipynb\" target=\"_parent\"><img src=\"https://colab.research.google.com/assets/colab-badge.svg\" alt=\"Open In Colab\"/></a>"
      ]
    },
    {
      "cell_type": "markdown",
      "metadata": {
        "id": "zvaT-_vs9qqn"
      },
      "source": [
        "# DOKUMENTASI FILE PROJECT KLASIFIKASI"
      ]
    },
    {
      "cell_type": "markdown",
      "metadata": {
        "id": "8EWvq3ts-pJX"
      },
      "source": [
        "## Bagaimana menjalankan file ini ?\n",
        "\n",
        "1. Buka akun kaggle anda\n",
        "2. Pada bagian profile klik settings\n",
        "3. Scroll ke bawah dan klik tombol *Create API Token*\n",
        "4. Setelah file *kaggle.json* terunduh, klik *runtime* dan klik *run All*\n",
        "5. Pastikan file json yang anda unduh di kaggle memiliki nama *kaggle.json*, jika beda silakan rename\n",
        "6. Setelah anda klik *run All*, upload file *kaggle.json* tadi yang sudah anda unduh di google colab"
      ]
    },
    {
      "cell_type": "markdown",
      "metadata": {
        "id": "aaRvxApv9wC3"
      },
      "source": [
        "## Isi dataset tanaman\n",
        "1. Dataset Tanaman Tomat\n",
        "2. Dataset Tanaman Jagung\n",
        "3. Dataset Tanaman Padi\n",
        "4. Dataset Tanaman Kentang\n",
        "\n",
        "* Dataset diambil dari beberapa sumber seperti kaggle dan github\n",
        "* Dataset kentang health kurang dari 1000 jadi saya mengambil image data dari sumber dataset lain"
      ]
    },
    {
      "cell_type": "markdown",
      "metadata": {
        "id": "D28EB9mM_4lm"
      },
      "source": [
        "## Link Dataset yang Di Pakai\n",
        "\n",
        "1. Dataset Padi :\n",
        "* https://www.kaggle.com/datasets/prabhan78/paddy-diseases-classification\n",
        "\n",
        "2. Dataset Jagung :\n",
        "* https://www.kaggle.com/code/omreekapon/corn-and-maize-diseases-classification/log\n",
        "\n",
        "3. Dataset Tomat :\n",
        "* https://www.kaggle.com/datasets/muhammadikhwankhalid/data-penyakit-pada-tanaman (Saya mengambil dataset tomat saja)\n",
        "\n",
        "4. Dataset Kentang :\n",
        "* https://github.com/rizqiamaliatuss/PotatoLeafDiseaseClassification.git"
      ]
    },
    {
      "cell_type": "code",
      "execution_count": null,
      "metadata": {
        "colab": {
          "base_uri": "https://localhost:8080/"
        },
        "id": "vaMsha8FiwEp",
        "outputId": "1ea275ea-10b7-4a49-954b-fc7b21242300"
      },
      "outputs": [
        {
          "name": "stdout",
          "output_type": "stream",
          "text": [
            "2.12.0\n"
          ]
        }
      ],
      "source": [
        "import tensorflow\n",
        "\n",
        "print(tensorflow.__version__)"
      ]
    },
    {
      "cell_type": "markdown",
      "metadata": {
        "id": "DrjJUGcDP4EL"
      },
      "source": [
        "## Collect the dataset"
      ]
    },
    {
      "cell_type": "code",
      "execution_count": null,
      "metadata": {
        "colab": {
          "base_uri": "https://localhost:8080/",
          "height": 90
        },
        "id": "8YQXJrPilJ_u",
        "outputId": "0f97adca-ab48-4b23-9275-2019b81f5705"
      },
      "outputs": [
        {
          "data": {
            "text/html": [
              "\n",
              "     <input type=\"file\" id=\"files-ded1adf3-1f15-4c21-b397-1cca84c28544\" name=\"files[]\" multiple disabled\n",
              "        style=\"border:none\" />\n",
              "     <output id=\"result-ded1adf3-1f15-4c21-b397-1cca84c28544\">\n",
              "      Upload widget is only available when the cell has been executed in the\n",
              "      current browser session. Please rerun this cell to enable.\n",
              "      </output>\n",
              "      <script>// Copyright 2017 Google LLC\n",
              "//\n",
              "// Licensed under the Apache License, Version 2.0 (the \"License\");\n",
              "// you may not use this file except in compliance with the License.\n",
              "// You may obtain a copy of the License at\n",
              "//\n",
              "//      http://www.apache.org/licenses/LICENSE-2.0\n",
              "//\n",
              "// Unless required by applicable law or agreed to in writing, software\n",
              "// distributed under the License is distributed on an \"AS IS\" BASIS,\n",
              "// WITHOUT WARRANTIES OR CONDITIONS OF ANY KIND, either express or implied.\n",
              "// See the License for the specific language governing permissions and\n",
              "// limitations under the License.\n",
              "\n",
              "/**\n",
              " * @fileoverview Helpers for google.colab Python module.\n",
              " */\n",
              "(function(scope) {\n",
              "function span(text, styleAttributes = {}) {\n",
              "  const element = document.createElement('span');\n",
              "  element.textContent = text;\n",
              "  for (const key of Object.keys(styleAttributes)) {\n",
              "    element.style[key] = styleAttributes[key];\n",
              "  }\n",
              "  return element;\n",
              "}\n",
              "\n",
              "// Max number of bytes which will be uploaded at a time.\n",
              "const MAX_PAYLOAD_SIZE = 100 * 1024;\n",
              "\n",
              "function _uploadFiles(inputId, outputId) {\n",
              "  const steps = uploadFilesStep(inputId, outputId);\n",
              "  const outputElement = document.getElementById(outputId);\n",
              "  // Cache steps on the outputElement to make it available for the next call\n",
              "  // to uploadFilesContinue from Python.\n",
              "  outputElement.steps = steps;\n",
              "\n",
              "  return _uploadFilesContinue(outputId);\n",
              "}\n",
              "\n",
              "// This is roughly an async generator (not supported in the browser yet),\n",
              "// where there are multiple asynchronous steps and the Python side is going\n",
              "// to poll for completion of each step.\n",
              "// This uses a Promise to block the python side on completion of each step,\n",
              "// then passes the result of the previous step as the input to the next step.\n",
              "function _uploadFilesContinue(outputId) {\n",
              "  const outputElement = document.getElementById(outputId);\n",
              "  const steps = outputElement.steps;\n",
              "\n",
              "  const next = steps.next(outputElement.lastPromiseValue);\n",
              "  return Promise.resolve(next.value.promise).then((value) => {\n",
              "    // Cache the last promise value to make it available to the next\n",
              "    // step of the generator.\n",
              "    outputElement.lastPromiseValue = value;\n",
              "    return next.value.response;\n",
              "  });\n",
              "}\n",
              "\n",
              "/**\n",
              " * Generator function which is called between each async step of the upload\n",
              " * process.\n",
              " * @param {string} inputId Element ID of the input file picker element.\n",
              " * @param {string} outputId Element ID of the output display.\n",
              " * @return {!Iterable<!Object>} Iterable of next steps.\n",
              " */\n",
              "function* uploadFilesStep(inputId, outputId) {\n",
              "  const inputElement = document.getElementById(inputId);\n",
              "  inputElement.disabled = false;\n",
              "\n",
              "  const outputElement = document.getElementById(outputId);\n",
              "  outputElement.innerHTML = '';\n",
              "\n",
              "  const pickedPromise = new Promise((resolve) => {\n",
              "    inputElement.addEventListener('change', (e) => {\n",
              "      resolve(e.target.files);\n",
              "    });\n",
              "  });\n",
              "\n",
              "  const cancel = document.createElement('button');\n",
              "  inputElement.parentElement.appendChild(cancel);\n",
              "  cancel.textContent = 'Cancel upload';\n",
              "  const cancelPromise = new Promise((resolve) => {\n",
              "    cancel.onclick = () => {\n",
              "      resolve(null);\n",
              "    };\n",
              "  });\n",
              "\n",
              "  // Wait for the user to pick the files.\n",
              "  const files = yield {\n",
              "    promise: Promise.race([pickedPromise, cancelPromise]),\n",
              "    response: {\n",
              "      action: 'starting',\n",
              "    }\n",
              "  };\n",
              "\n",
              "  cancel.remove();\n",
              "\n",
              "  // Disable the input element since further picks are not allowed.\n",
              "  inputElement.disabled = true;\n",
              "\n",
              "  if (!files) {\n",
              "    return {\n",
              "      response: {\n",
              "        action: 'complete',\n",
              "      }\n",
              "    };\n",
              "  }\n",
              "\n",
              "  for (const file of files) {\n",
              "    const li = document.createElement('li');\n",
              "    li.append(span(file.name, {fontWeight: 'bold'}));\n",
              "    li.append(span(\n",
              "        `(${file.type || 'n/a'}) - ${file.size} bytes, ` +\n",
              "        `last modified: ${\n",
              "            file.lastModifiedDate ? file.lastModifiedDate.toLocaleDateString() :\n",
              "                                    'n/a'} - `));\n",
              "    const percent = span('0% done');\n",
              "    li.appendChild(percent);\n",
              "\n",
              "    outputElement.appendChild(li);\n",
              "\n",
              "    const fileDataPromise = new Promise((resolve) => {\n",
              "      const reader = new FileReader();\n",
              "      reader.onload = (e) => {\n",
              "        resolve(e.target.result);\n",
              "      };\n",
              "      reader.readAsArrayBuffer(file);\n",
              "    });\n",
              "    // Wait for the data to be ready.\n",
              "    let fileData = yield {\n",
              "      promise: fileDataPromise,\n",
              "      response: {\n",
              "        action: 'continue',\n",
              "      }\n",
              "    };\n",
              "\n",
              "    // Use a chunked sending to avoid message size limits. See b/62115660.\n",
              "    let position = 0;\n",
              "    do {\n",
              "      const length = Math.min(fileData.byteLength - position, MAX_PAYLOAD_SIZE);\n",
              "      const chunk = new Uint8Array(fileData, position, length);\n",
              "      position += length;\n",
              "\n",
              "      const base64 = btoa(String.fromCharCode.apply(null, chunk));\n",
              "      yield {\n",
              "        response: {\n",
              "          action: 'append',\n",
              "          file: file.name,\n",
              "          data: base64,\n",
              "        },\n",
              "      };\n",
              "\n",
              "      let percentDone = fileData.byteLength === 0 ?\n",
              "          100 :\n",
              "          Math.round((position / fileData.byteLength) * 100);\n",
              "      percent.textContent = `${percentDone}% done`;\n",
              "\n",
              "    } while (position < fileData.byteLength);\n",
              "  }\n",
              "\n",
              "  // All done.\n",
              "  yield {\n",
              "    response: {\n",
              "      action: 'complete',\n",
              "    }\n",
              "  };\n",
              "}\n",
              "\n",
              "scope.google = scope.google || {};\n",
              "scope.google.colab = scope.google.colab || {};\n",
              "scope.google.colab._files = {\n",
              "  _uploadFiles,\n",
              "  _uploadFilesContinue,\n",
              "};\n",
              "})(self);\n",
              "</script> "
            ],
            "text/plain": [
              "<IPython.core.display.HTML object>"
            ]
          },
          "metadata": {},
          "output_type": "display_data"
        },
        {
          "name": "stdout",
          "output_type": "stream",
          "text": [
            "Saving kaggle.json to kaggle.json\n"
          ]
        },
        {
          "data": {
            "text/plain": [
              "{'kaggle.json': b'{\"username\":\"nurulkhairunisa\",\"key\":\"ed51b31c2f4cbed10153958595931232\"}'}"
            ]
          },
          "execution_count": 2,
          "metadata": {},
          "output_type": "execute_result"
        }
      ],
      "source": [
        "# upload your file api from kaggle account\n",
        "from google.colab import files\n",
        "files.upload()"
      ]
    },
    {
      "cell_type": "code",
      "execution_count": null,
      "metadata": {
        "id": "ZApqFB1EQCPD"
      },
      "outputs": [],
      "source": [
        "!mkdir ~/.kaggle\n",
        "!cp kaggle.json ~/.kaggle/\n",
        "\n",
        "!chmod 600 ~/.kaggle/kaggle.json"
      ]
    },
    {
      "cell_type": "code",
      "execution_count": null,
      "metadata": {
        "colab": {
          "base_uri": "https://localhost:8080/"
        },
        "id": "9Z-L8e8yQQ6b",
        "outputId": "da98ca00-7f4f-43de-b2c4-ab4a9966d02c"
      },
      "outputs": [
        {
          "name": "stdout",
          "output_type": "stream",
          "text": [
            "Looking in indexes: https://pypi.org/simple, https://us-python.pkg.dev/colab-wheels/public/simple/\n",
            "Requirement already satisfied: kaggle in /usr/local/lib/python3.10/dist-packages (1.5.13)\n",
            "Requirement already satisfied: six>=1.10 in /usr/local/lib/python3.10/dist-packages (from kaggle) (1.16.0)\n",
            "Requirement already satisfied: certifi in /usr/local/lib/python3.10/dist-packages (from kaggle) (2022.12.7)\n",
            "Requirement already satisfied: python-dateutil in /usr/local/lib/python3.10/dist-packages (from kaggle) (2.8.2)\n",
            "Requirement already satisfied: requests in /usr/local/lib/python3.10/dist-packages (from kaggle) (2.27.1)\n",
            "Requirement already satisfied: tqdm in /usr/local/lib/python3.10/dist-packages (from kaggle) (4.65.0)\n",
            "Requirement already satisfied: python-slugify in /usr/local/lib/python3.10/dist-packages (from kaggle) (8.0.1)\n",
            "Requirement already satisfied: urllib3 in /usr/local/lib/python3.10/dist-packages (from kaggle) (1.26.15)\n",
            "Requirement already satisfied: text-unidecode>=1.3 in /usr/local/lib/python3.10/dist-packages (from python-slugify->kaggle) (1.3)\n",
            "Requirement already satisfied: charset-normalizer~=2.0.0 in /usr/local/lib/python3.10/dist-packages (from requests->kaggle) (2.0.12)\n",
            "Requirement already satisfied: idna<4,>=2.5 in /usr/local/lib/python3.10/dist-packages (from requests->kaggle) (3.4)\n",
            "Looking in indexes: https://pypi.org/simple, https://us-python.pkg.dev/colab-wheels/public/simple/\n",
            "Collecting split_folders\n",
            "  Downloading split_folders-0.5.1-py3-none-any.whl (8.4 kB)\n",
            "Installing collected packages: split_folders\n",
            "Successfully installed split_folders-0.5.1\n"
          ]
        }
      ],
      "source": [
        "# install library kaggle with pip\n",
        "!pip install kaggle\n",
        "!pip install split_folders"
      ]
    },
    {
      "cell_type": "code",
      "execution_count": null,
      "metadata": {
        "colab": {
          "base_uri": "https://localhost:8080/"
        },
        "id": "h25FWv2DQVNb",
        "outputId": "f244958d-c6a8-4e5e-9624-5924753983e2"
      },
      "outputs": [
        {
          "name": "stdout",
          "output_type": "stream",
          "text": [
            "Downloading corn-or-maize-leaf-disease-dataset.zip to /content\n",
            " 96% 154M/161M [00:03<00:00, 62.7MB/s]\n",
            "100% 161M/161M [00:03<00:00, 55.0MB/s]\n",
            "Downloading data-penyakit-pada-tanaman.zip to /content\n",
            "100% 471M/473M [00:11<00:00, 61.9MB/s]\n",
            "100% 473M/473M [00:11<00:00, 43.3MB/s]\n",
            "Downloading paddy-diseases-classification.zip to /content\n",
            " 99% 772M/782M [00:16<00:00, 58.7MB/s]\n",
            "100% 782M/782M [00:16<00:00, 48.5MB/s]\n",
            "Cloning into 'PotatoLeafDiseaseClassification'...\n",
            "remote: Enumerating objects: 5088, done.\u001b[K\n",
            "remote: Counting objects: 100% (24/24), done.\u001b[K\n",
            "remote: Compressing objects: 100% (24/24), done.\u001b[K\n",
            "remote: Total 5088 (delta 14), reused 1 (delta 0), pack-reused 5064\u001b[K\n",
            "Receiving objects: 100% (5088/5088), 1.87 GiB | 32.20 MiB/s, done.\n",
            "Resolving deltas: 100% (278/278), done.\n",
            "Updating files: 100% (4497/4497), done.\n"
          ]
        }
      ],
      "source": [
        "# download your dataset\n",
        "!kaggle datasets download -d smaranjitghose/corn-or-maize-leaf-disease-dataset\n",
        "!kaggle datasets download -d muhammadikhwankhalid/data-penyakit-pada-tanaman\n",
        "!kaggle datasets download -d prabhan78/paddy-diseases-classification\n",
        "!git clone https://github.com/rizqiamaliatuss/PotatoLeafDiseaseClassification.git"
      ]
    },
    {
      "cell_type": "code",
      "execution_count": null,
      "metadata": {
        "id": "nQTlOUo7FRzw"
      },
      "outputs": [],
      "source": [
        "import os\n",
        "import splitfolders\n",
        "import zipfile\n",
        "import shutil\n",
        "import random\n",
        "import tensorflow as tf"
      ]
    },
    {
      "cell_type": "code",
      "execution_count": null,
      "metadata": {
        "id": "hCY-SX-mSdVb"
      },
      "outputs": [],
      "source": [
        "# Extract dataset kaggle\n",
        "base_dir = '/content/capstone/dataset'\n",
        "\n",
        "lokal_zip = [\n",
        "    '/content/corn-or-maize-leaf-disease-dataset.zip',\n",
        "    '/content/data-penyakit-pada-tanaman.zip',\n",
        "    '/content/paddy-diseases-classification.zip',\n",
        "]\n",
        "\n",
        "for ds in lokal_zip:\n",
        "  zip_ext = zipfile.ZipFile(ds, 'r')\n",
        "  if 'paddy' in ds:\n",
        "    zip_ext.extractall(os.path.join(os.path.join(base_dir, 'dummy'), 'padi'))\n",
        "  else:\n",
        "    zip_ext.extractall(os.path.join(base_dir, 'dummy'))\n",
        "\n",
        "  zip_ext.close()"
      ]
    },
    {
      "cell_type": "code",
      "execution_count": null,
      "metadata": {
        "id": "b8F01oEZDXds"
      },
      "outputs": [],
      "source": [
        "# move the dataset\n",
        "!mv /content/PotatoLeafDiseaseClassification/dataset /content/capstone/dataset/dummy"
      ]
    },
    {
      "cell_type": "markdown",
      "metadata": {
        "id": "YaBxL71lda_M"
      },
      "source": [
        "## Get info all dataset"
      ]
    },
    {
      "cell_type": "code",
      "execution_count": null,
      "metadata": {
        "colab": {
          "base_uri": "https://localhost:8080/"
        },
        "id": "NhV-4-orGhmO",
        "outputId": "11ad4cd3-cf56-4c02-beec-d46781233cdf"
      },
      "outputs": [
        {
          "name": "stdout",
          "output_type": "stream",
          "text": [
            "Daun_Tomat_Jamur_Target_spot : 1374\n",
            "Daun_Tomat_Jamur_Fulva : 922\n",
            "Daun_Tomat_Virus_Mosaicvirus : 343\n",
            "Daun_Tomat_Tungau_Labalaba : 1646\n",
            "Daun_Tomat_Hawar_Tua : 1879\n",
            "Daun_Tomat_Bakteri : 2097\n",
            "Daun_Tomat_Virus_Begomovirus : 5327\n",
            "Daun_Tomat_Sehat : 1561\n",
            "Daun_Tomat_Hawar_Muda : 970\n",
            "Daun_Tomat_Jamur_Septoria : 1741\n",
            "\n",
            "Total folder : 25\n",
            "Total folder tomat : 10\n"
          ]
        }
      ],
      "source": [
        "# get info the dataset 1\n",
        "# dataset tomat\n",
        "path_data1 = '/content/capstone/dataset/dummy/content/custom-train-test(color)/Custom-Train-Test(color)/color'\n",
        "items = os.listdir(path_data1)\n",
        "class_tomat = 0\n",
        "for folder in items:\n",
        "  f_path = os.path.join(path_data1, folder)\n",
        "  sub_data = os.listdir(f_path)\n",
        "  # print(f\"{folder} : {len(sub_data)}\")\n",
        "\n",
        "  if 'Daun_Tomat_' in folder :\n",
        "    print(f\"{folder} : {len(sub_data)}\")\n",
        "    class_tomat += 1\n",
        "\n",
        "  # i = 0\n",
        "  # for img in sub_data:\n",
        "  #   if os.path.getsize(os.path.join(f_path, img)) < 1:\n",
        "  #     i += 1\n",
        "  # else:\n",
        "  #   print(f\"Total gambar kosong : {i}\")\n",
        "else:\n",
        "  print()\n",
        "  print(f\"Total folder : {len(items)}\")\n",
        "  print(f\"Total folder tomat : {class_tomat}\")"
      ]
    },
    {
      "cell_type": "code",
      "execution_count": null,
      "metadata": {
        "id": "Itf9fAsTMEn4"
      },
      "outputs": [],
      "source": [
        "# Rename class folder dataset 2\n",
        "!mv /content/capstone/dataset/dummy/data/Blight /content/capstone/dataset/dummy/data/Daun_Jagung_Hawar\n",
        "!mv /content/capstone/dataset/dummy/data/Common_Rust /content/capstone/dataset/dummy/data/Daun_Jagung_Karat_Biasa\n",
        "!mv /content/capstone/dataset/dummy/data/Gray_Leaf_Spot /content/capstone/dataset/dummy/data/Daun_Jagung_Bintik_Daun_Abu-abu\n",
        "!mv /content/capstone/dataset/dummy/data/Healthy /content/capstone/dataset/dummy/data/Daun_Jagung_Sehat\n",
        "\n",
        "# Rename the name folder corn dataset\n",
        "!mv /content/capstone/dataset/dummy/data /content/capstone/dataset/dummy/jagung"
      ]
    },
    {
      "cell_type": "code",
      "execution_count": null,
      "metadata": {
        "colab": {
          "base_uri": "https://localhost:8080/"
        },
        "id": "ocrn_k_KLUbP",
        "outputId": "84857749-82b2-42cb-c162-dd427a171979"
      },
      "outputs": [
        {
          "name": "stdout",
          "output_type": "stream",
          "text": [
            "Daun_Jagung_Bintik_Daun_Abu-abu : 574\n",
            "Daun_Jagung_Sehat : 1162\n",
            "Daun_Jagung_Hawar : 1146\n",
            "Daun_Jagung_Karat_Biasa : 1306\n"
          ]
        }
      ],
      "source": [
        "# get info the dataset 2\n",
        "# dataset jagung\n",
        "path_data2 = '/content/capstone/dataset/dummy/jagung'\n",
        "\n",
        "for folder in os.listdir(path_data2):\n",
        "  print(f\"{folder} : {len(os.listdir(os.path.join(path_data2, folder)))}\")"
      ]
    },
    {
      "cell_type": "code",
      "execution_count": null,
      "metadata": {
        "id": "gtxyjla-djT-"
      },
      "outputs": [],
      "source": [
        "# rename folder dataset padi\n",
        "!mv /content/capstone/dataset/dummy/padi/tungro /content/capstone/dataset/dummy/padi/Daun_Padi_Tungro\n",
        "!mv /content/capstone/dataset/dummy/padi/normal /content/capstone/dataset/dummy/padi/Daun_Padi_Sehat\n",
        "!mv /content/capstone/dataset/dummy/padi/dead_heart /content/capstone/dataset/dummy/padi/Daun_Padi_Dead_Heart\n",
        "!mv /content/capstone/dataset/dummy/padi/blast /content/capstone/dataset/dummy/padi/Daun_Padi_Dead_Blast\n",
        "!mv /content/capstone/dataset/dummy/padi/hispa /content/capstone/dataset/dummy/padi/Daun_Padi_Dead_Hispa\n",
        "!mv /content/capstone/dataset/dummy/padi/bacterial_leaf_blight /content/capstone/dataset/dummy/padi/Daun_Padi_Bacterial_Leaf_Blight\n",
        "!mv /content/capstone/dataset/dummy/padi/bacterial_leaf_streak /content/capstone/dataset/dummy/padi/Daun_Padi_Bacterial_Leaf_Streak\n",
        "!mv /content/capstone/dataset/dummy/padi/bacterial_panicle_blight /content/capstone/dataset/dummy/padi/Daun_Padi_Bacterial_Panicle_Blight\n",
        "!mv /content/capstone/dataset/dummy/padi/brown_spot /content/capstone/dataset/dummy/padi/Daun_Padi_Brown_Spot\n",
        "!mv /content/capstone/dataset/dummy/padi/downy_mildew /content/capstone/dataset/dummy/padi/Daun_Padi_Downy_Mildew"
      ]
    },
    {
      "cell_type": "code",
      "execution_count": null,
      "metadata": {
        "colab": {
          "base_uri": "https://localhost:8080/"
        },
        "id": "ni95pghzIGJw",
        "outputId": "08e4d217-aeb8-43ff-d4f1-db8a2b58ad58"
      },
      "outputs": [
        {
          "name": "stdout",
          "output_type": "stream",
          "text": [
            "Daun_Padi_Downy_Mildew : 620\n",
            "Daun_Padi_Bacterial_Panicle_Blight : 337\n",
            "Daun_Padi_Tungro : 1088\n",
            "Daun_Padi_Sehat : 1764\n",
            "Daun_Padi_Dead_Blast : 1738\n",
            "Daun_Padi_Bacterial_Leaf_Streak : 380\n",
            "Daun_Padi_Bacterial_Leaf_Blight : 479\n",
            "Daun_Padi_Dead_Hispa : 1594\n",
            "Daun_Padi_Dead_Heart : 1442\n",
            "Daun_Padi_Brown_Spot : 965\n",
            "\n",
            "Total jumlah kelas dataset padi 10\n"
          ]
        }
      ],
      "source": [
        "# get info the dataset 3\n",
        "# dataset padi\n",
        "path_data3 = '/content/capstone/dataset/dummy/padi'\n",
        "\n",
        "for folder in os.listdir(path_data3):\n",
        "  print(f\"{folder} : {len(os.listdir(os.path.join(path_data3, folder)))}\")\n",
        "  # if len(os.listdir(os.path.join(path_data3, folder))) > 1000:\n",
        "  #   print(f\"{folder} : {len(os.listdir(os.path.join(path_data3, folder)))}\")\n",
        "else:\n",
        "  print()\n",
        "  print(f\"Total jumlah kelas dataset padi {len(os.listdir(path_data3))}\")"
      ]
    },
    {
      "cell_type": "code",
      "execution_count": null,
      "metadata": {
        "id": "yGExmOldd8Sk"
      },
      "outputs": [],
      "source": [
        "# Rename the dataset 4\n",
        "# dataset kentang\n",
        "!mv /content/capstone/dataset/dummy/dataset /content/capstone/dataset/dummy/kentang"
      ]
    },
    {
      "cell_type": "code",
      "execution_count": null,
      "metadata": {
        "id": "J14xXNktfX0t"
      },
      "outputs": [],
      "source": [
        "# rename kelas dataset kentang\n",
        "!mv /content/capstone/dataset/dummy/kentang/Virus /content/capstone/dataset/dummy/kentang/Daun_Kentang_Virus\n",
        "!mv /content/capstone/dataset/dummy/kentang/Healthy /content/capstone/dataset/dummy/kentang/Daun_Kentang_Healthy\n",
        "!mv '/content/capstone/dataset/dummy/kentang/Phytopthora Infestans' /content/capstone/dataset/dummy/kentang/Daun_Kentang_Phytopthora_Infestans\n",
        "!mv '/content/capstone/dataset/dummy/kentang/Alternaria Solani' /content/capstone/dataset/dummy/kentang/Daun_Kentang_Alternaria_Solani\n",
        "!mv /content/capstone/dataset/dummy/kentang/Insect /content/capstone/dataset/dummy/kentang/Daun_Kentang_Insect"
      ]
    },
    {
      "cell_type": "code",
      "execution_count": null,
      "metadata": {
        "colab": {
          "base_uri": "https://localhost:8080/"
        },
        "id": "BWdGK0-XW2DN",
        "outputId": "3a171113-94c5-4e95-cf1a-8709044e587d"
      },
      "outputs": [
        {
          "name": "stdout",
          "output_type": "stream",
          "text": [
            "Daun_Kentang_Insect : 302\n",
            "Daun_Kentang_Healthy : 893\n",
            "Daun_Kentang_Phytopthora_Infestans : 1229\n",
            "Daun_Kentang_Alternaria_Solani : 1055\n",
            "Daun_Kentang_Virus : 1012\n",
            "\n",
            "Total jumlah kelas dataset kentang 5\n"
          ]
        }
      ],
      "source": [
        "# get info the dataset 4\n",
        "# dataset kentang\n",
        "path_data4 = '/content/capstone/dataset/dummy/kentang'\n",
        "\n",
        "for folder in os.listdir(path_data4):\n",
        "  # if len(os.listdir(os.path.join(path_data4, folder))) > 1000:\n",
        "  print(f\"{folder} : {len(os.listdir(os.path.join(path_data4, folder)))}\")\n",
        "else:\n",
        "  print()\n",
        "  print(f\"Total jumlah kelas dataset kentang {len(os.listdir(path_data4))}\")"
      ]
    },
    {
      "cell_type": "markdown",
      "metadata": {
        "id": "OxDvb8hmI72S"
      },
      "source": [
        "# Move class dataset to list for training\n"
      ]
    },
    {
      "cell_type": "markdown",
      "metadata": {
        "id": "m84aqIz7gzYw"
      },
      "source": [
        "### Define name folder for dataset"
      ]
    },
    {
      "cell_type": "code",
      "execution_count": null,
      "metadata": {
        "colab": {
          "base_uri": "https://localhost:8080/"
        },
        "id": "MD33ER_Tg4ZP",
        "outputId": "cb3e064d-dd84-4a9a-ce8a-069eb7b05f48"
      },
      "outputs": [
        {
          "name": "stdout",
          "output_type": "stream",
          "text": [
            "Total class tomat : 10\n",
            "Total class kentang : 5\n",
            "Total class padi : 10\n",
            "Total class jagung : 4\n"
          ]
        }
      ],
      "source": [
        "# Dataset tomat\n",
        "path_tomat = '/content/capstone/dataset/dummy/content/custom-train-test(color)/Custom-Train-Test(color)/color'\n",
        "tomat_set = [\n",
        "    folder for folder in os.listdir(path_tomat) if 'Daun_Tomat_' in folder\n",
        "]\n",
        "print(f\"Total class tomat : {len(tomat_set)}\")\n",
        "\n",
        "# Dataset kentang\n",
        "path_kentang = '/content/capstone/dataset/dummy/kentang'\n",
        "kentang_set = [\n",
        "    folder for folder in os.listdir(path_kentang)\n",
        "]\n",
        "print(f\"Total class kentang : {len(kentang_set)}\")\n",
        "\n",
        "# Dataset padi\n",
        "path_padi = '/content/capstone/dataset/dummy/padi'\n",
        "padi_set = [\n",
        "    folder for folder in os.listdir(path_padi)\n",
        "]\n",
        "print(f\"Total class padi : {len(padi_set)}\")\n",
        "\n",
        "# Dataset jagung\n",
        "path_jagung = '/content/capstone/dataset/dummy/jagung'\n",
        "jagung_set = [\n",
        "    folder for folder in os.listdir(path_jagung)\n",
        "]\n",
        "print(f\"Total class jagung : {len(jagung_set)}\")"
      ]
    },
    {
      "cell_type": "markdown",
      "metadata": {
        "id": "GmgAewyyq7LY"
      },
      "source": [
        "## Define base path for tanitama dataset"
      ]
    },
    {
      "cell_type": "code",
      "execution_count": null,
      "metadata": {
        "id": "sLkLiRQmnA4Y"
      },
      "outputs": [],
      "source": [
        "# Define folder for dataset train\n",
        "path_tanitama = '/content/capstone/dataset/tanitama'\n",
        "os.makedirs(path_tanitama)"
      ]
    },
    {
      "cell_type": "markdown",
      "metadata": {
        "id": "emtC4M-sfie4"
      },
      "source": [
        "### Move dataset tomat"
      ]
    },
    {
      "cell_type": "code",
      "execution_count": null,
      "metadata": {
        "colab": {
          "base_uri": "https://localhost:8080/"
        },
        "id": "_J3o6HpXtaVw",
        "outputId": "e386023c-e4d7-44ec-e5ab-e995d5be9659"
      },
      "outputs": [
        {
          "name": "stdout",
          "output_type": "stream",
          "text": [
            "10\n"
          ]
        },
        {
          "data": {
            "text/plain": [
              "['Daun_Tomat_Jamur_Target_spot',\n",
              " 'Daun_Tomat_Jamur_Fulva',\n",
              " 'Daun_Tomat_Virus_Mosaicvirus',\n",
              " 'Daun_Tomat_Tungau_Labalaba',\n",
              " 'Daun_Tomat_Hawar_Tua',\n",
              " 'Daun_Tomat_Bakteri',\n",
              " 'Daun_Tomat_Virus_Begomovirus',\n",
              " 'Daun_Tomat_Sehat',\n",
              " 'Daun_Tomat_Hawar_Muda',\n",
              " 'Daun_Tomat_Jamur_Septoria']"
            ]
          },
          "execution_count": 19,
          "metadata": {},
          "output_type": "execute_result"
        }
      ],
      "source": [
        "print(len(tomat_set))\n",
        "tomat_set"
      ]
    },
    {
      "cell_type": "code",
      "execution_count": null,
      "metadata": {
        "id": "LdAhrFDifhog"
      },
      "outputs": [],
      "source": [
        "tanitama_tomat = os.path.join(path_tanitama, 'tomat')\n",
        "os.makedirs(tanitama_tomat)\n",
        "tomat_sakit = os.path.join(tanitama_tomat, 'tomat_sakit')\n",
        "os.makedirs(tomat_sakit)\n",
        "tomat_sehat = os.path.join(tanitama_tomat, 'tomat_sehat')\n",
        "os.makedirs(tomat_sehat)\n",
        "\n",
        "for sub_f in tomat_set:\n",
        "  folder = os.path.join(path_tomat, sub_f)\n",
        "  if sub_f != 'Daun_Tomat_Sehat':\n",
        "    num_f = 60 if sub_f == 'Daun_Tomat_Bakteri' else 55\n",
        "    list_f = os.listdir(folder)\n",
        "    list_f_copy = random.sample(list_f, num_f)\n",
        "    for f in list_f_copy:\n",
        "      shutil.copy2(os.path.join(folder, f), os.path.join(tomat_sakit, f))\n",
        "  else:\n",
        "    list_f = os.listdir(folder)\n",
        "    list_f_copy = random.sample(list_f, 500)\n",
        "    for f in list_f_copy:\n",
        "      shutil.copy2(os.path.join(folder, f), os.path.join(tomat_sehat, f))"
      ]
    },
    {
      "cell_type": "markdown",
      "metadata": {
        "id": "Kle8HlI3qxTQ"
      },
      "source": [
        "### Move dataset kentang"
      ]
    },
    {
      "cell_type": "code",
      "execution_count": null,
      "metadata": {
        "colab": {
          "base_uri": "https://localhost:8080/"
        },
        "id": "CZehDrCAsrLQ",
        "outputId": "8195640b-5e94-40f3-9c6a-750f3b71a061"
      },
      "outputs": [
        {
          "name": "stdout",
          "output_type": "stream",
          "text": [
            "5\n"
          ]
        },
        {
          "data": {
            "text/plain": [
              "['Daun_Kentang_Insect',\n",
              " 'Daun_Kentang_Healthy',\n",
              " 'Daun_Kentang_Phytopthora_Infestans',\n",
              " 'Daun_Kentang_Alternaria_Solani',\n",
              " 'Daun_Kentang_Virus']"
            ]
          },
          "execution_count": 21,
          "metadata": {},
          "output_type": "execute_result"
        }
      ],
      "source": [
        "print(len(kentang_set))\n",
        "kentang_set"
      ]
    },
    {
      "cell_type": "code",
      "execution_count": null,
      "metadata": {
        "id": "MUee47gapk1I"
      },
      "outputs": [],
      "source": [
        "tanitama_kentang = os.path.join(path_tanitama, 'kentang')\n",
        "os.makedirs(tanitama_kentang)\n",
        "kentang_sakit = os.path.join(tanitama_kentang, 'kentang_sakit')\n",
        "os.makedirs(kentang_sakit)\n",
        "kentang_sehat = os.path.join(tanitama_kentang, 'kentang_sehat')\n",
        "os.makedirs(kentang_sehat)\n",
        "\n",
        "for sub_f in kentang_set:\n",
        "  folder = os.path.join(path_kentang, sub_f)\n",
        "  if sub_f != 'Daun_Kentang_Healthy':\n",
        "    num_f = 125\n",
        "    list_f = os.listdir(folder)\n",
        "    list_f_copy = random.sample(list_f, num_f)\n",
        "    for f in list_f_copy:\n",
        "      shutil.copy2(os.path.join(folder, f), os.path.join(kentang_sakit, f))\n",
        "  else:\n",
        "    list_f = os.listdir(folder)\n",
        "    list_f_copy = random.sample(list_f, 500)\n",
        "    for f in list_f_copy:\n",
        "      shutil.copy2(os.path.join(folder, f), os.path.join(kentang_sehat, f))"
      ]
    },
    {
      "cell_type": "markdown",
      "metadata": {
        "id": "z19l9fgOrr9I"
      },
      "source": [
        "### Move dataset jagung"
      ]
    },
    {
      "cell_type": "code",
      "execution_count": null,
      "metadata": {
        "colab": {
          "base_uri": "https://localhost:8080/"
        },
        "id": "6EFb7Rt_rzxH",
        "outputId": "fdb56025-14d0-49e9-ff86-5b44a80fadeb"
      },
      "outputs": [
        {
          "name": "stdout",
          "output_type": "stream",
          "text": [
            "4\n"
          ]
        },
        {
          "data": {
            "text/plain": [
              "['Daun_Jagung_Bintik_Daun_Abu-abu',\n",
              " 'Daun_Jagung_Sehat',\n",
              " 'Daun_Jagung_Hawar',\n",
              " 'Daun_Jagung_Karat_Biasa']"
            ]
          },
          "execution_count": 23,
          "metadata": {},
          "output_type": "execute_result"
        }
      ],
      "source": [
        "print(len(jagung_set))\n",
        "jagung_set"
      ]
    },
    {
      "cell_type": "code",
      "execution_count": null,
      "metadata": {
        "id": "ykw6s7V1rgSA"
      },
      "outputs": [],
      "source": [
        "tanitama_jagung = os.path.join(path_tanitama, 'jagung')\n",
        "os.makedirs(tanitama_jagung)\n",
        "jagung_sakit = os.path.join(tanitama_jagung, 'jagung_sakit')\n",
        "os.makedirs(jagung_sakit)\n",
        "jagung_sehat = os.path.join(tanitama_jagung, 'jagung_sehat')\n",
        "os.makedirs(jagung_sehat)\n",
        "\n",
        "for sub_f in jagung_set:\n",
        "  folder = os.path.join(path_jagung, sub_f)\n",
        "  if sub_f != 'Daun_Jagung_Sehat':\n",
        "    num_f = 170 if sub_f == 'Daun_Jagung_Hawar' else 165\n",
        "    list_f = os.listdir(folder)\n",
        "    list_f_copy = random.sample(list_f, num_f)\n",
        "    for f in list_f_copy:\n",
        "      shutil.copy2(os.path.join(folder, f), os.path.join(jagung_sakit, f))\n",
        "  else:\n",
        "    list_f = os.listdir(folder)\n",
        "    list_f_copy = random.sample(list_f, 500)\n",
        "    for f in list_f_copy:\n",
        "      shutil.copy2(os.path.join(folder, f), os.path.join(jagung_sehat, f))"
      ]
    },
    {
      "cell_type": "markdown",
      "metadata": {
        "id": "ovELVTkcs4jY"
      },
      "source": [
        "### Move dataset padi"
      ]
    },
    {
      "cell_type": "code",
      "execution_count": null,
      "metadata": {
        "colab": {
          "base_uri": "https://localhost:8080/"
        },
        "id": "cukCN0lhs0wP",
        "outputId": "84ac6efb-ae07-4b93-8355-18c516b8e743"
      },
      "outputs": [
        {
          "name": "stdout",
          "output_type": "stream",
          "text": [
            "10\n"
          ]
        },
        {
          "data": {
            "text/plain": [
              "['Daun_Padi_Downy_Mildew',\n",
              " 'Daun_Padi_Bacterial_Panicle_Blight',\n",
              " 'Daun_Padi_Tungro',\n",
              " 'Daun_Padi_Sehat',\n",
              " 'Daun_Padi_Dead_Blast',\n",
              " 'Daun_Padi_Bacterial_Leaf_Streak',\n",
              " 'Daun_Padi_Bacterial_Leaf_Blight',\n",
              " 'Daun_Padi_Dead_Hispa',\n",
              " 'Daun_Padi_Dead_Heart',\n",
              " 'Daun_Padi_Brown_Spot']"
            ]
          },
          "execution_count": 25,
          "metadata": {},
          "output_type": "execute_result"
        }
      ],
      "source": [
        "print(len(padi_set))\n",
        "padi_set"
      ]
    },
    {
      "cell_type": "code",
      "execution_count": null,
      "metadata": {
        "id": "_XXOIcVcs8r4"
      },
      "outputs": [],
      "source": [
        "tanitama_padi = os.path.join(path_tanitama, 'padi')\n",
        "os.makedirs(tanitama_padi)\n",
        "padi_sakit = os.path.join(tanitama_padi, 'padi_sakit')\n",
        "os.makedirs(padi_sakit)\n",
        "padi_sehat = os.path.join(tanitama_padi, 'padi_sehat')\n",
        "os.makedirs(padi_sehat)\n",
        "\n",
        "for sub_f in padi_set:\n",
        "  folder = os.path.join(path_padi, sub_f)\n",
        "  if sub_f != 'Daun_Padi_Sehat':\n",
        "    num_f = 60 if sub_f == 'Daun_Padi_Dead_Blast' else 55\n",
        "    list_f = os.listdir(folder)\n",
        "    list_f_copy = random.sample(list_f, num_f)\n",
        "    for f in list_f_copy:\n",
        "      shutil.copy2(os.path.join(folder, f), os.path.join(padi_sakit, f))\n",
        "  else:\n",
        "    list_f = os.listdir(folder)\n",
        "    list_f_copy = random.sample(list_f, 500)\n",
        "    for f in list_f_copy:\n",
        "      shutil.copy2(os.path.join(folder, f), os.path.join(padi_sehat, f))"
      ]
    },
    {
      "cell_type": "markdown",
      "metadata": {
        "id": "iW-ui73Aubfo"
      },
      "source": [
        "# Check the dataset tanitama for ready training model"
      ]
    },
    {
      "cell_type": "code",
      "execution_count": null,
      "metadata": {
        "colab": {
          "base_uri": "https://localhost:8080/"
        },
        "id": "zM8pfn6UuUhg",
        "outputId": "5f4211a8-dfb9-458f-b0cd-6cfe770be14c"
      },
      "outputs": [
        {
          "name": "stdout",
          "output_type": "stream",
          "text": [
            "tomat_sakit : 500\n",
            "tomat_sehat : 500\n",
            "padi_sehat : 500\n",
            "padi_sakit : 500\n",
            "jagung_sehat : 500\n",
            "jagung_sakit : 500\n",
            "kentang_sehat : 500\n",
            "kentang_sakit : 500\n",
            "\n",
            "Total data class : 8\n",
            "Total data train : 4000\n"
          ]
        }
      ],
      "source": [
        "tanitama_dataset = '/content/capstone/dataset/tanitama'\n",
        "item_tanitama = os.listdir(tanitama_dataset)\n",
        "\n",
        "total_data = 0\n",
        "total_class = 0\n",
        "for sub_item in item_tanitama:\n",
        "  for item in os.listdir(os.path.join(tanitama_dataset, sub_item)):\n",
        "    print(f\"{item} : {len(os.listdir(os.path.join(os.path.join(tanitama_dataset, sub_item), item)))}\")\n",
        "    total_data += len(os.listdir(os.path.join(os.path.join(tanitama_dataset, sub_item), item)))\n",
        "    total_class += 1\n",
        "else:\n",
        "  print()\n",
        "  print(f\"Total data class : {total_class}\")\n",
        "  print(f\"Total data train : {total_data}\")"
      ]
    },
    {
      "cell_type": "markdown",
      "metadata": {
        "id": "ugXqmSJa7xF9"
      },
      "source": [
        "# Check size of image"
      ]
    },
    {
      "cell_type": "code",
      "execution_count": null,
      "metadata": {
        "id": "bwMK0q6472jt"
      },
      "outputs": [],
      "source": [
        "from PIL import Image\n",
        "\n",
        "# gambar = Image.open('/content/capstone/dataset/tanitama/jagung/jagung_sakit/Corn_Blight (1005).JPG')\n",
        "# gambar.size\n",
        "\n",
        "list_size_img = []\n",
        "for sub_folder in item_tanitama:\n",
        "  for sub_class in os.listdir(os.path.join(tanitama_dataset, sub_folder)):\n",
        "    for img in os.listdir(os.path.join(os.path.join(tanitama_dataset, sub_folder), sub_class)):\n",
        "      gambar = Image.open(os.path.join(os.path.join(os.path.join(tanitama_dataset, sub_folder), sub_class), img))\n",
        "      img_size = gambar.size\n",
        "      if img_size not in list_size_img:\n",
        "        list_size_img.append(img_size)\n"
      ]
    },
    {
      "cell_type": "code",
      "execution_count": null,
      "metadata": {
        "colab": {
          "base_uri": "https://localhost:8080/"
        },
        "id": "knbsGoSrB1ZO",
        "outputId": "deec6af6-46ec-4b47-a6fa-76b6f3b624d4"
      },
      "outputs": [
        {
          "name": "stdout",
          "output_type": "stream",
          "text": [
            "(185, 500)\n",
            "(3456, 5184)\n"
          ]
        }
      ],
      "source": [
        "# len(list_size_img)\n",
        "print(min(list_size_img))\n",
        "print(max(list_size_img))"
      ]
    },
    {
      "cell_type": "markdown",
      "metadata": {
        "id": "NALmy8HVFyo1"
      },
      "source": [
        "# Move class training to dataset"
      ]
    },
    {
      "cell_type": "code",
      "execution_count": null,
      "metadata": {
        "id": "gRRVLSMCF2ft"
      },
      "outputs": [],
      "source": [
        "tanitama_set = '/content/capstone/dataset/tanitama_set'\n",
        "\n",
        "for sub_folder in item_tanitama:\n",
        "  for sub_class in os.listdir(os.path.join(tanitama_dataset, sub_folder)):\n",
        "    shutil.copytree(os.path.join(os.path.join(tanitama_dataset, sub_folder), sub_class), os.path.join(tanitama_set, sub_class))"
      ]
    },
    {
      "cell_type": "markdown",
      "metadata": {
        "id": "qN_qbcRyHa3V"
      },
      "source": [
        "## check size dataset again"
      ]
    },
    {
      "cell_type": "code",
      "execution_count": null,
      "metadata": {
        "colab": {
          "base_uri": "https://localhost:8080/"
        },
        "id": "Ft1tduRUHelF",
        "outputId": "76077d61-fc6b-44f6-bdf5-5de001ed29eb"
      },
      "outputs": [
        {
          "name": "stdout",
          "output_type": "stream",
          "text": [
            "jagung_sehat : 500\n",
            "padi_sehat : 500\n",
            "kentang_sehat : 500\n",
            "kentang_sakit : 500\n",
            "tomat_sakit : 500\n",
            "tomat_sehat : 500\n",
            "padi_sakit : 500\n",
            "jagung_sakit : 500\n",
            "\n",
            "Total class : 8\n",
            "Total image data : 4000\n"
          ]
        }
      ],
      "source": [
        "total_img = 0\n",
        "for sub_class in os.listdir(tanitama_set):\n",
        "  print(f\"{sub_class} : {len(os.listdir(os.path.join(tanitama_set, sub_class)))}\")\n",
        "  total_img += len(os.listdir(os.path.join(tanitama_set, sub_class)))\n",
        "else:\n",
        "  print()\n",
        "  print(f\"Total class : {len(os.listdir(tanitama_set))}\")\n",
        "  print(f\"Total image data : {total_img}\")"
      ]
    },
    {
      "cell_type": "markdown",
      "metadata": {
        "id": "kmZIanFGWVV1"
      },
      "source": [
        "# Move dataset tanitama to drive"
      ]
    },
    {
      "cell_type": "markdown",
      "metadata": {
        "id": "YGshCC84Cw3-"
      },
      "source": [
        "# Split tanitama set to train and validation"
      ]
    },
    {
      "cell_type": "code",
      "execution_count": null,
      "metadata": {
        "colab": {
          "base_uri": "https://localhost:8080/"
        },
        "id": "tZ_YpIZAC0ql",
        "outputId": "6cdf95a4-c53c-44d1-938b-2528f99aa1de"
      },
      "outputs": [
        {
          "name": "stderr",
          "output_type": "stream",
          "text": [
            "Copying files: 4000 files [00:03, 1214.87 files/s]\n"
          ]
        }
      ],
      "source": [
        "import splitfolders\n",
        "\n",
        "# Membagi isi direktori dataset menjadi 2 folder train dan val menggunakan split folders\n",
        "# Menggunakan rasio 80 : 20 dari dataset yang tersedia\n",
        "splitfolders.ratio('/content/capstone/dataset/tanitama_set', '/content/capstone/dataset/tanitama_dataset', seed=42, ratio=(.8, .2))"
      ]
    },
    {
      "cell_type": "markdown",
      "metadata": {
        "id": "foNj7bdEwMTA"
      },
      "source": [
        "# Create the model"
      ]
    },
    {
      "cell_type": "code",
      "execution_count": null,
      "metadata": {
        "id": "UH0cU-K9tMOR"
      },
      "outputs": [],
      "source": [
        "class myCallback(tf.keras.callbacks.Callback):\n",
        "  def on_epoch_end(self, epoch, logs={}):\n",
        "    '''\n",
        "    Halts the training after reaching 60 percent accuracy\n",
        "\n",
        "    Args:\n",
        "      epoch (integer) - index of epoch (required but unused in the function definition below)\n",
        "      logs (dict) - metric results from the training epoch\n",
        "    '''\n",
        "\n",
        "    # Check accuracy\n",
        "    if(logs.get('loss') < 0.4):\n",
        "\n",
        "      # Stop if threshold is met\n",
        "      print(\"\\nLoss is lower than 0.4 so cancelling training!\")\n",
        "      self.model.stop_training = True\n",
        "\n",
        "# Instantiate class\n",
        "callbacks = myCallback()"
      ]
    },
    {
      "cell_type": "code",
      "execution_count": null,
      "metadata": {
        "colab": {
          "base_uri": "https://localhost:8080/"
        },
        "id": "ZFcPej9muiro",
        "outputId": "239998a2-7779-477c-9db3-d4958c3db206"
      },
      "outputs": [
        {
          "name": "stdout",
          "output_type": "stream",
          "text": [
            "Model: \"sequential\"\n",
            "_________________________________________________________________\n",
            " Layer (type)                Output Shape              Param #   \n",
            "=================================================================\n",
            " conv2d (Conv2D)             (None, 148, 148, 64)      1792      \n",
            "                                                                 \n",
            " max_pooling2d (MaxPooling2D  (None, 74, 74, 64)       0         \n",
            " )                                                               \n",
            "                                                                 \n",
            " conv2d_1 (Conv2D)           (None, 72, 72, 64)        36928     \n",
            "                                                                 \n",
            " max_pooling2d_1 (MaxPooling  (None, 36, 36, 64)       0         \n",
            " 2D)                                                             \n",
            "                                                                 \n",
            " conv2d_2 (Conv2D)           (None, 34, 34, 128)       73856     \n",
            "                                                                 \n",
            " max_pooling2d_2 (MaxPooling  (None, 17, 17, 128)      0         \n",
            " 2D)                                                             \n",
            "                                                                 \n",
            " flatten (Flatten)           (None, 36992)             0         \n",
            "                                                                 \n",
            " dropout (Dropout)           (None, 36992)             0         \n",
            "                                                                 \n",
            " dense (Dense)               (None, 512)               18940416  \n",
            "                                                                 \n",
            " dense_1 (Dense)             (None, 8)                 4104      \n",
            "                                                                 \n",
            "=================================================================\n",
            "Total params: 19,057,096\n",
            "Trainable params: 19,057,096\n",
            "Non-trainable params: 0\n",
            "_________________________________________________________________\n"
          ]
        }
      ],
      "source": [
        "import tensorflow as tf\n",
        "\n",
        "model = tf.keras.models.Sequential([\n",
        "    # Note the input shape is the desired size of the image 150x150 with 3 bytes color\n",
        "    # This is the first convolution\n",
        "    tf.keras.layers.Conv2D(64, (3,3), activation='relu', input_shape=(150, 150, 3)),\n",
        "    tf.keras.layers.MaxPooling2D(2, 2),\n",
        "    # The second convolution\n",
        "    tf.keras.layers.Conv2D(64, (3,3), activation='relu'),\n",
        "    tf.keras.layers.MaxPooling2D(2,2),\n",
        "    # The third convolution\n",
        "    tf.keras.layers.Conv2D(128, (3,3), activation='relu'),\n",
        "    tf.keras.layers.MaxPooling2D(2,2),\n",
        "    # The fourth convolution\n",
        "    # tf.keras.layers.Conv2D(128, (3,3), activation='relu'),\n",
        "    # tf.keras.layers.MaxPooling2D(2,2),\n",
        "    # Flatten the results to feed into a DNN\n",
        "    tf.keras.layers.Flatten(),\n",
        "    tf.keras.layers.Dropout(0.5),\n",
        "    # 512 neuron hidden layer\n",
        "    tf.keras.layers.Dense(512, activation='relu'),\n",
        "    tf.keras.layers.Dense(8, activation='softmax')\n",
        "])\n",
        "\n",
        "# Print the model summary\n",
        "model.summary()"
      ]
    },
    {
      "cell_type": "code",
      "execution_count": null,
      "metadata": {
        "id": "BAZ2JYsxwmv2"
      },
      "outputs": [],
      "source": [
        "from tensorflow.keras.optimizers import RMSprop\n",
        "\n",
        "# Set the training parameters\n",
        "model.compile(loss = 'categorical_crossentropy', optimizer=RMSprop(learning_rate=0.0001), metrics=['accuracy'])"
      ]
    },
    {
      "cell_type": "code",
      "execution_count": null,
      "metadata": {
        "colab": {
          "base_uri": "https://localhost:8080/"
        },
        "id": "p-y-lANjwq_A",
        "outputId": "64e575db-6da1-4b2f-b843-cff65dd4fdaf"
      },
      "outputs": [
        {
          "name": "stdout",
          "output_type": "stream",
          "text": [
            "Found 3200 images belonging to 8 classes.\n",
            "Found 800 images belonging to 8 classes.\n"
          ]
        }
      ],
      "source": [
        "from tensorflow.keras.preprocessing.image import ImageDataGenerator\n",
        "\n",
        "TRAINING_DIR = \"/content/capstone/dataset/tanitama_dataset/train\"\n",
        "training_datagen = ImageDataGenerator(rescale = 1./255.)\n",
        "\n",
        "VALIDATION_DIR = \"/content/capstone/dataset/tanitama_dataset/val\"\n",
        "validation_datagen = ImageDataGenerator(rescale = 1./255.)\n",
        "\n",
        "train_generator = training_datagen.flow_from_directory(\n",
        "\tTRAINING_DIR,\n",
        "\ttarget_size=(150,150),\n",
        "\tclass_mode='categorical',\n",
        "  batch_size=64\n",
        ")\n",
        "\n",
        "validation_generator = validation_datagen.flow_from_directory(\n",
        "\tVALIDATION_DIR,\n",
        "\ttarget_size=(150,150),\n",
        "\tclass_mode='categorical',\n",
        "  batch_size=64\n",
        ")"
      ]
    },
    {
      "cell_type": "code",
      "execution_count": null,
      "metadata": {
        "colab": {
          "background_save": true,
          "base_uri": "https://localhost:8080/"
        },
        "id": "I93cMFEwKn71",
        "outputId": "a987e654-70ec-474c-bb95-7b9cd0b972bc"
      },
      "outputs": [
        {
          "name": "stdout",
          "output_type": "stream",
          "text": [
            "Epoch 1/15\n",
            "50/50 [==============================] - 360s 7s/step - loss: 1.5255 - accuracy: 0.3859 - val_loss: 1.1317 - val_accuracy: 0.5612\n",
            "Epoch 2/15\n",
            "50/50 [==============================] - 361s 7s/step - loss: 1.0052 - accuracy: 0.6194 - val_loss: 0.8514 - val_accuracy: 0.7100\n",
            "Epoch 3/15\n",
            "50/50 [==============================] - 343s 7s/step - loss: 0.8068 - accuracy: 0.6900 - val_loss: 0.7710 - val_accuracy: 0.6725\n",
            "Epoch 4/15\n",
            "50/50 [==============================] - 368s 7s/step - loss: 0.7069 - accuracy: 0.7222 - val_loss: 0.6503 - val_accuracy: 0.7375\n",
            "Epoch 5/15\n",
            "50/50 [==============================] - 360s 7s/step - loss: 0.6155 - accuracy: 0.7622 - val_loss: 0.6477 - val_accuracy: 0.7375\n",
            "Epoch 6/15\n",
            "50/50 [==============================] - 360s 7s/step - loss: 0.5632 - accuracy: 0.7797 - val_loss: 0.5485 - val_accuracy: 0.7887\n",
            "Epoch 7/15\n",
            "50/50 [==============================] - 364s 7s/step - loss: 0.5205 - accuracy: 0.7937 - val_loss: 0.5952 - val_accuracy: 0.7738\n",
            "Epoch 8/15\n",
            "50/50 [==============================] - 353s 7s/step - loss: 0.4710 - accuracy: 0.8181 - val_loss: 0.4835 - val_accuracy: 0.8112\n",
            "Epoch 9/15\n",
            "50/50 [==============================] - 345s 7s/step - loss: 0.4495 - accuracy: 0.8238 - val_loss: 0.5465 - val_accuracy: 0.7763\n",
            "Epoch 10/15\n",
            "50/50 [==============================] - 349s 7s/step - loss: 0.4208 - accuracy: 0.8306 - val_loss: 0.5384 - val_accuracy: 0.7912\n",
            "Epoch 11/15\n",
            "50/50 [==============================] - 362s 7s/step - loss: 0.3886 - accuracy: 0.8497 - val_loss: 0.4584 - val_accuracy: 0.8200\n",
            "Epoch 12/15\n",
            "50/50 [==============================] - 344s 7s/step - loss: 0.3542 - accuracy: 0.8650 - val_loss: 0.4983 - val_accuracy: 0.8125\n",
            "Epoch 13/15\n",
            "50/50 [==============================] - 351s 7s/step - loss: 0.3404 - accuracy: 0.8625 - val_loss: 0.5352 - val_accuracy: 0.8087\n",
            "Epoch 14/15\n",
            "50/50 [==============================] - 360s 7s/step - loss: 0.3113 - accuracy: 0.8809 - val_loss: 0.4415 - val_accuracy: 0.8338\n",
            "Epoch 15/15\n",
            "50/50 [==============================] - 350s 7s/step - loss: 0.2936 - accuracy: 0.8834 - val_loss: 0.4276 - val_accuracy: 0.8300\n"
          ]
        }
      ],
      "source": [
        "history = model.fit(\n",
        "      train_generator,\n",
        "      epochs=15,\n",
        "      verbose=1,\n",
        "      validation_data = validation_generator)"
      ]
    },
    {
      "cell_type": "code",
      "execution_count": null,
      "metadata": {
        "colab": {
          "background_save": true
        },
        "id": "QY9bZgk6CRCK",
        "outputId": "56e3d431-6c4d-4a5f-ed25-7593c2e957e4"
      },
      "outputs": [
        {
          "data": {
            "image/png": "[encoded data removed]",
            "text/plain": [
              "<Figure size 640x480 with 1 Axes>"
            ]
          },
          "metadata": {},
          "output_type": "display_data"
        },
        {
          "data": {
            "text/plain": [
              "<Figure size 640x480 with 0 Axes>"
            ]
          },
          "metadata": {},
          "output_type": "display_data"
        }
      ],
      "source": [
        "import matplotlib.pyplot as plt\n",
        "\n",
        "# Plot the results\n",
        "acc = history.history['accuracy']\n",
        "val_acc = history.history['val_accuracy']\n",
        "loss = history.history['loss']\n",
        "val_loss = history.history['val_loss']\n",
        "\n",
        "epochs = range(len(acc))\n",
        "\n",
        "plt.plot(epochs, acc, 'r', label='Training accuracy')\n",
        "plt.plot(epochs, val_acc, 'b', label='Validation accuracy')\n",
        "plt.title('Training and validation accuracy')\n",
        "plt.legend(loc=0)\n",
        "plt.figure()\n",
        "\n",
        "plt.show()"
      ]
    },
    {
      "cell_type": "code",
      "execution_count": null,
      "metadata": {
        "id": "Ze0cP7IACXi-"
      },
      "outputs": [],
      "source": [
        "## NOTE: If you are using Safari and this cell throws an error,\n",
        "## please skip this block and run the next one instead.\n",
        "\n",
        "import numpy as np\n",
        "from google.colab import files\n",
        "from tensorflow.keras.utils import load_img, img_to_array\n",
        "\n",
        "uploaded = files.upload()\n",
        "\n",
        "for fn in uploaded.keys():\n",
        "\n",
        "  # predicting images\n",
        "  path = fn\n",
        "  img = load_img(path, target_size=(150, 150))\n",
        "  x = img_to_array(img)\n",
        "  x = np.expand_dims(x, axis=0)\n",
        "\n",
        "  images = np.vstack([x])\n",
        "  classes = model.predict(images, batch_size=10)\n",
        "  print(fn)\n",
        "  print(classes)"
      ]
    },
    {
      "cell_type": "code",
      "execution_count": null,
      "metadata": {
        "id": "fZo0yiklCibw"
      },
      "outputs": [],
      "source": [
        "# import time\n",
        "# saved_model_path = \"./{}.h5\".format(int(time.time()))\n",
        "\n",
        "# model.save(saved_model_path)"
      ]
    },
    {
      "cell_type": "code",
      "execution_count": null,
      "metadata": {
        "id": "O5LXkhBKFHRw"
      },
      "outputs": [],
      "source": []
    }
  ],
  "metadata": {
    "accelerator": "TPU",
    "colab": {
      "provenance": [],
      "include_colab_link": true
    },
    "kernelspec": {
      "display_name": "Python 3",
      "name": "python3"
    },
    "language_info": {
      "name": "python"
    }
  },
  "nbformat": 4,
  "nbformat_minor": 0
}